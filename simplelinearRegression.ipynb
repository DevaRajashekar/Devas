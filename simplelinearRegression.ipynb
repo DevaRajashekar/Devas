import pandas as pd
import numpy as np
from sklearn import linear_model
import matplotlib.pyplot as plt
df = pd.read_csv('homeprices.csv')
df
# Scatterplot for checking linearity in the dataset
%matplotlib inline
plt.xlabel('area')
plt.ylabel('price')
plt.scatter(df.area,df.price,color='red',marker='+')
#Creating input and target dataframes
new_df = df.drop('price',axis='columns')
new_df
price = df.price
price
# Create linear regression object
reg = linear_model.LinearRegression()
reg.fit(new_df,price)
reg.predict([[3300]])  #prediction for a input valiue
# getting coefficients and intercepts
reg.coef_
reg.intercept_
# comaparing predicted and actual values 
%matplotlib inline
plt.xlabel('area')
plt.ylabel('price')
plt.scatter(df.area,df.price,color='red',marker='+')
plt.plot(df.area,reg.predict(df[['area']]),color='blue')
